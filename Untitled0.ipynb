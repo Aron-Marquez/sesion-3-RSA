{
  "nbformat": 4,
  "nbformat_minor": 0,
  "metadata": {
    "colab": {
      "provenance": [],
      "authorship_tag": "ABX9TyPYdGzx/MId+f7Gmyrjcog6",
      "include_colab_link": true
    },
    "kernelspec": {
      "name": "python3",
      "display_name": "Python 3"
    },
    "language_info": {
      "name": "python"
    }
  },
  "cells": [
    {
      "cell_type": "markdown",
      "metadata": {
        "id": "view-in-github",
        "colab_type": "text"
      },
      "source": [
        "<a href=\"https://colab.research.google.com/github/Aron-Marquez/sesion-3-RSA/blob/main/Untitled0.ipynb\" target=\"_parent\"><img src=\"https://colab.research.google.com/assets/colab-badge.svg\" alt=\"Open In Colab\"/></a>"
      ]
    },
    {
      "cell_type": "code",
      "execution_count": null,
      "metadata": {
        "colab": {
          "base_uri": "https://localhost:8080/"
        },
        "id": "rjuMJHFp1DaJ",
        "outputId": "51880572-3943-429d-ecd2-b18aad5831fe"
      },
      "outputs": [
        {
          "output_type": "stream",
          "name": "stdout",
          "text": [
            "Collecting pycryptodome\n",
            "  Downloading pycryptodome-3.22.0-cp37-abi3-manylinux_2_17_x86_64.manylinux2014_x86_64.whl.metadata (3.4 kB)\n",
            "Downloading pycryptodome-3.22.0-cp37-abi3-manylinux_2_17_x86_64.manylinux2014_x86_64.whl (2.3 MB)\n",
            "\u001b[2K   \u001b[90m━━━━━━━━━━━━━━━━━━━━━━━━━━━━━━━━━━━━━━━━\u001b[0m \u001b[32m2.3/2.3 MB\u001b[0m \u001b[31m9.5 MB/s\u001b[0m eta \u001b[36m0:00:00\u001b[0m\n",
            "\u001b[?25hInstalling collected packages: pycryptodome\n",
            "Successfully installed pycryptodome-3.22.0\n",
            "🔐 Tarjeta cifrada: OyQOQlUOPLinGvkrbK9+a6SHtKWN8NT1mOx3MV+RKH+aSqktUY4VML7Im91vjeXu\n",
            "💳 Tarjeta descifrada: 4280796765448937\n"
          ]
        }
      ],
      "source": [
        "!pip install pycryptodome\n",
        "\n",
        "from Crypto.Cipher import AES\n",
        "from Crypto.Util.Padding import pad, unpad\n",
        "import base64\n",
        "import os\n",
        "\n",
        "key = os.urandom(32)\n",
        "\n",
        "tarjeta = \"4280796765448937\".encode()\n",
        "\n",
        "iv = os.urandom(16)\n",
        "cipher = AES.new(key, AES.MODE_CBC, iv)\n",
        "\n",
        "ciphertext = cipher.encrypt(pad(tarjeta, AES.block_size))\n",
        "\n",
        "encrypted_data = base64.b64encode(iv + ciphertext).decode()\n",
        "print(\"🔐 Tarjeta cifrada:\", encrypted_data)\n",
        "\n",
        "decoded_data = base64.b64decode(encrypted_data)\n",
        "\n",
        "iv_dec = decoded_data[:16]\n",
        "ciphertext_dec = decoded_data[16:]\n",
        "\n",
        "cipher_dec = AES.new(key, AES.MODE_CBC, iv_dec)\n",
        "\n",
        "decrypted_data = unpad(cipher_dec.decrypt(ciphertext_dec), AES.block_size).decode()\n",
        "\n",
        "print(\"💳 Tarjeta descifrada:\", decrypted_data)"
      ]
    }
  ]
}